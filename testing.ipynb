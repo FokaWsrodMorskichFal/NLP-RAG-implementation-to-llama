{
 "cells": [
  {
   "cell_type": "code",
   "execution_count": 13,
   "metadata": {},
   "outputs": [],
   "source": [
    "from wikirag import WikiRAG\n",
    "from langchain_ollama import ChatOllama\n",
    "import pandas as pd\n",
    "import time"
   ]
  },
  {
   "cell_type": "code",
   "execution_count": 14,
   "metadata": {},
   "outputs": [],
   "source": [
    "num_doc_retrieved = 5\n",
    "model_name = \"llama3.1:8b\"\n",
    "basic_wikirag = WikiRAG(\n",
    "    db_name = \"./databases/Russia_2023_2024_full_4_table_rows_db\", \n",
    "    model_name = model_name,\n",
    "    documents_retrieved = num_doc_retrieved)\n",
    "base_model = ChatOllama(model = basic_wikirag.model_name)"
   ]
  },
  {
   "cell_type": "code",
   "execution_count": 15,
   "metadata": {},
   "outputs": [],
   "source": [
    "Q = [\n",
    "    \"When, where and how has Yevgeny Prigozhin died?\",\n",
    "]"
   ]
  },
  {
   "cell_type": "code",
   "execution_count": 16,
   "metadata": {},
   "outputs": [],
   "source": [
    "base_model = ChatOllama(model = model_name)"
   ]
  },
  {
   "cell_type": "code",
   "execution_count": 17,
   "metadata": {},
   "outputs": [
    {
     "name": "stderr",
     "output_type": "stream",
     "text": [
      "/tmp/ipykernel_19097/3466732227.py:19: FutureWarning: The behavior of DataFrame concatenation with empty or all-NA entries is deprecated. In a future version, this will no longer exclude empty or all-NA columns when determining the result dtypes. To retain the old behavior, exclude the relevant entries before the concat operation.\n",
      "  df = pd.concat([df, pd.DataFrame({\n"
     ]
    }
   ],
   "source": [
    "df = pd.DataFrame(columns=[\n",
    "    \"question\", \n",
    "    \"answer\", \n",
    "    \"base model answer\", \n",
    "    \"retrivals\", \n",
    "    \"database search time\",\n",
    "    \"retrival time\",\n",
    "    \"model answer time\",\n",
    "    \"base model asnwer time\"\n",
    "    ])\n",
    "\n",
    "for question in Q:\n",
    "    answer = basic_wikirag.query(question)\n",
    "    \n",
    "    times = basic_wikirag.get_time()\n",
    "    start_time = time.time()\n",
    "    base_model_answer = base_model.invoke(question)\n",
    "    base_model_time = time.time() - start_time\n",
    "    df = pd.concat([df, pd.DataFrame({\n",
    "        \"question\": [question],\n",
    "        \"answer\": [answer[\"answer\"]],\n",
    "        \"base model answer\": [base_model_answer.content], \n",
    "        \"retrivals\": [answer[\"retrivals\"]],\n",
    "        \"database search time\": [times[\"database search time\"]],\n",
    "        \"retrival time\": [times[\"retrival time\"]],\n",
    "        \"model answer time\": [times[\"model response time\"]],\n",
    "        \"base model asnwer time\": [base_model_time]\n",
    "    })], ignore_index=True)"
   ]
  },
  {
   "cell_type": "code",
   "execution_count": 18,
   "metadata": {},
   "outputs": [
    {
     "data": {
      "text/html": [
       "<div>\n",
       "<style scoped>\n",
       "    .dataframe tbody tr th:only-of-type {\n",
       "        vertical-align: middle;\n",
       "    }\n",
       "\n",
       "    .dataframe tbody tr th {\n",
       "        vertical-align: top;\n",
       "    }\n",
       "\n",
       "    .dataframe thead th {\n",
       "        text-align: right;\n",
       "    }\n",
       "</style>\n",
       "<table border=\"1\" class=\"dataframe\">\n",
       "  <thead>\n",
       "    <tr style=\"text-align: right;\">\n",
       "      <th></th>\n",
       "      <th>question</th>\n",
       "      <th>answer</th>\n",
       "      <th>base model answer</th>\n",
       "      <th>retrivals</th>\n",
       "      <th>database search time</th>\n",
       "      <th>retrival time</th>\n",
       "      <th>model answer time</th>\n",
       "      <th>base model asnwer time</th>\n",
       "    </tr>\n",
       "  </thead>\n",
       "  <tbody>\n",
       "    <tr>\n",
       "      <th>0</th>\n",
       "      <td>When, where and how has Yevgeny Prigozhin died?</td>\n",
       "      <td>According to the context, Yevgeny Prigozhin, 6...</td>\n",
       "      <td>I don't have information about the death of Ye...</td>\n",
       "      <td>[2023 in Russia Deaths August  23 August\\nYevg...</td>\n",
       "      <td>0.587496</td>\n",
       "      <td>4.58802</td>\n",
       "      <td>67.62597</td>\n",
       "      <td>10.228982</td>\n",
       "    </tr>\n",
       "  </tbody>\n",
       "</table>\n",
       "</div>"
      ],
      "text/plain": [
       "                                          question  \\\n",
       "0  When, where and how has Yevgeny Prigozhin died?   \n",
       "\n",
       "                                              answer  \\\n",
       "0  According to the context, Yevgeny Prigozhin, 6...   \n",
       "\n",
       "                                   base model answer  \\\n",
       "0  I don't have information about the death of Ye...   \n",
       "\n",
       "                                           retrivals  database search time  \\\n",
       "0  [2023 in Russia Deaths August  23 August\\nYevg...              0.587496   \n",
       "\n",
       "   retrival time  model answer time  base model asnwer time  \n",
       "0        4.58802           67.62597               10.228982  "
      ]
     },
     "execution_count": 18,
     "metadata": {},
     "output_type": "execute_result"
    }
   ],
   "source": [
    "df"
   ]
  },
  {
   "cell_type": "code",
   "execution_count": 19,
   "metadata": {},
   "outputs": [
    {
     "name": "stdout",
     "output_type": "stream",
     "text": [
      "According to the context, Yevgeny Prigozhin, 62, leader of the Wagner group and a former close confidant of Russian president Vladimir Putin, died on August 23, 2023. He was killed in an air crash when his private jet, Embraer Legacy 600 with registration number RA-02795, crashed during a regular high-altitude flight from Moscow to Saint Petersburg. The plane was shot down by air defenses according to Wagner Group, but the US government and aviation experts believe it was downed by a bomb onboard or other sabotage, which resulted in the death of Prigozhin, along with several others including Dmitry Utkin and Valery Chekalov.\n"
     ]
    }
   ],
   "source": [
    "print(df[\"answer\"][0])"
   ]
  }
 ],
 "metadata": {
  "kernelspec": {
   "display_name": ".venv",
   "language": "python",
   "name": "python3"
  },
  "language_info": {
   "codemirror_mode": {
    "name": "ipython",
    "version": 3
   },
   "file_extension": ".py",
   "mimetype": "text/x-python",
   "name": "python",
   "nbconvert_exporter": "python",
   "pygments_lexer": "ipython3",
   "version": "3.12.3"
  }
 },
 "nbformat": 4,
 "nbformat_minor": 2
}

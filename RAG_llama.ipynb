{
 "cells": [
  {
   "cell_type": "code",
   "execution_count": 1,
   "metadata": {},
   "outputs": [],
   "source": [
    "from wikirag import WikiRAG\n",
    "from langchain_ollama import ChatOllama"
   ]
  },
  {
   "cell_type": "code",
   "execution_count": 8,
   "metadata": {},
   "outputs": [],
   "source": [
    "num_doc_retrieved = 20\n",
    "basic_wikirag = WikiRAG(db_name = \"./databases/Russia_2023_2024_full_4_table_rows_db\", model_name=\"llama3.1:8b\",documents_retrieved=num_doc_retrieved)\n",
    "#ollama31_8b = ChatOllama(model = \"llama3.1:8b\")"
   ]
  },
  {
   "cell_type": "code",
   "execution_count": 6,
   "metadata": {},
   "outputs": [
    {
     "name": "stdout",
     "output_type": "stream",
     "text": [
      "Time taken for database search:  0.41474080085754395\n",
      "Time taken for retrieval:  17.330082893371582\n",
      "Time taken for model:  69.74047923088074\n"
     ]
    }
   ],
   "source": [
    "question = \"When, where and how has Yevgeny Prigozhin died?\"\n",
    "#\"Who won Men's 100 metre butterfly? Elaborate on the winner and his competitors\"\n",
    "#\"What competitions related to swimming where at the Olympics? Who won each of them?\"\n",
    "#\"Name all candidates who took part in Primorsky election. Where there any poles? Who had the best chances to win and who won?\"\n",
    "#\"Tell me about things that doubt Russia policy reliablity in the eyes of democratic countries. Focus on different aspects like elections, controversial government actions or violation of human rights.\"\n",
    "#\"Tell me about things that doubt Russia policy reliablity in the eyes of democratic countries\"\n",
    "#\"Tell me everything what happend on 28 of January 2024\"\n",
    "#\"Have EU sanctions on Russia caused any troubles with strategic resources\"\n",
    "#\"Name all candidates who took part in Primorsky election. Where there any poles? Who had the best chances to win and who won?\"\n",
    "#\"Name all candidates who did not take part in Primorsky election?\"\n",
    "# questions[qa] + \"Answer in detail with examples.\"\n",
    "#print(question)\n",
    "#print(answers[qa])\n",
    "\n",
    "answer = basic_wikirag.query(question)"
   ]
  },
  {
   "cell_type": "code",
   "execution_count": 4,
   "metadata": {},
   "outputs": [
    {
     "data": {
      "text/plain": [
       "{'question': 'When, where and how died Yevgeny Prigozhin?',\n",
       " 'answer': 'According to the context provided, Yevgeny Prigozhin, the 62-year-old leader of the Wagner group, died on August 23. However, there is no information about where or how he died in the given context.',\n",
       " 'retrivals': ['2023 in Russia Deaths August  23 August\\nYevgeny Prigozhin, 62, leader of the Wagner group\\nDmitry Utkin, 53, military officer and mercenary\\nValery Chekalov, 47, mercenary leader',\n",
       "  '2024 in Russia Deaths   Ordinary Miracle, Dersu Uzala, Die Fledermaus).\\n12 January – Gennady Yakovlev, 85, botanist, pharmacognosist, and phytochemist.\\n14 January – Lev Rubinstein, 76, poet, essayist, and social activist.\\n15 January – Tatyana Frunze, 103, organic chemist and professor.\\n22 January – Sergei Yefremenko, 51, singer, guitarist, and lyricist (Markscheider Kunst).\\n29 January – Yuri Ilchenko, 72, vocalist and guitarist (Mify, Zemlyane).\\n31 January – Farida Muminova, 66,',\n",
       "  'Timeline of the Russian invasion of Ukraine (1 August – 31 December 2024) December 2024 9 December  Sergey Yevsiukov, head of the Olenivka prison colony, was killed by a car bomb in Donetsk. His wife was reportedly wounded, losing her leg in the explosion.\\nRussian presidential commissioner for human rights Tatiana Moskalkova announced that the remains of POWs killed in the 2024 Korochansky Ilyushin Il-76 crash in January had been returned to Ukraine following an exchange but did']}"
      ]
     },
     "execution_count": 4,
     "metadata": {},
     "output_type": "execute_result"
    }
   ],
   "source": [
    "answer"
   ]
  },
  {
   "cell_type": "code",
   "execution_count": 7,
   "metadata": {},
   "outputs": [
    {
     "data": {
      "text/plain": [
       "['2023 in Russia Deaths August  23 August\\nYevgeny Prigozhin, 62, leader of the Wagner group\\nDmitry Utkin, 53, military officer and mercenary\\nValery Chekalov, 47, mercenary leader',\n",
       " '2024 in Russia Deaths   Ordinary Miracle, Dersu Uzala, Die Fledermaus).\\n12 January – Gennady Yakovlev, 85, botanist, pharmacognosist, and phytochemist.\\n14 January – Lev Rubinstein, 76, poet, essayist, and social activist.\\n15 January – Tatyana Frunze, 103, organic chemist and professor.\\n22 January – Sergei Yefremenko, 51, singer, guitarist, and lyricist (Markscheider Kunst).\\n29 January – Yuri Ilchenko, 72, vocalist and guitarist (Mify, Zemlyane).\\n31 January – Farida Muminova, 66,',\n",
       " 'Timeline of the Russian invasion of Ukraine (1 August – 31 December 2024) December 2024 9 December  Sergey Yevsiukov, head of the Olenivka prison colony, was killed by a car bomb in Donetsk. His wife was reportedly wounded, losing her leg in the explosion.\\nRussian presidential commissioner for human rights Tatiana Moskalkova announced that the remains of POWs killed in the 2024 Korochansky Ilyushin Il-76 crash in January had been returned to Ukraine following an exchange but did',\n",
       " '2024 in Russia Deaths   3 January –\\nPyotr Chernyayev, 70, film critic, actor (Election Day), and journalist.\\nVladimir Ageyev, 91, painter.\\n4 January –\\nLeonid Tkachenko, 70, Ukrainian-Russian football player (Baltika Kaliningrad, Metalist Kharkiv) and manager (Dynamo Saint Petersburg).\\nKonstantin Zheldin, 90, actor (Major Whirlwind, Seventeen Moments of Spring, Brother 2).\\n6 January –\\nVictor Ekimovskiy, 76, composer.\\nOleg Ryabokon, 84, film director, screenwriter, and songwriter.\\nVladimir Khavinson, 77, gerontologist, member of the',\n",
       " 'Suspicious deaths of notable Russians in 2022–2024 Analysis Calls for further investigations  Friends and families of the deceased Russian businessmen generally found it \"unthinkable\" that they killed themselves – and in some cases also their wives and children – and have demanded an independent investigation into the mysterious deaths. Igor Volobuyev, the Ukrainian-born ex-vice-chairman of Gazprombank, who left Russia during the outbreak of the 2022 Russian invasion of Ukraine and joined the',\n",
       " \"2024 Saint Petersburg gubernatorial election Background   businessman and Wagner Group mercenary leader Yevgeny Prigozhin.\\nIn autumn 2022 Prigozhin claimed that he invested 2 billion rubles into Beglov's 2019 campaign, while the governor sabotaged Wagner's headquarters opening and awarded city contracts to his friends and cronies. Governor Beglov in return replied that the conflict with Prigozhin had been caused by the businessman's desire to control food catering, garbage\",\n",
       " \"Suspicious deaths of notable Russians in 2022–2024 Suspicious deaths 2023  Start of table data. \\nName\\tAge at death\\tPosition\\tDate of death\\tCount of deaths\\tPlace body was discovered\\tCircumstances\\nGennady Lopyrev\\t69\\tFormer lieutenant-general in the FSO and overseer of various construction projects, includingPutin's palaceatGelendzhik, nearSochi. Imprisoned in the IK-3 prison in 2017 for takingbribes, charges he denied in 2016.[80]\\t16 August 2023\\t1\\tIK-3 prison colony,Ryazan Oblast\\tDied ofleukemiatwo days after diagnosis. News agencies reported no previous signs of the illness.[80]\\nYevgeny Prigozhin\\t62\\tRussian oligarch,mercenary,Wagner Groupco-founder and leader, and former close confidant of Russian presidentVladimir Putinuntil he launcheda brief rebellionon 23 June 2023, exactly two months prior.\\t23 August 2023\\t10\\tKuzhenkino,Bologovsky District,Tver Oblast\\tSee also:2023 Wagner Group plane crashAnEmbraer Legacy 600business jet with registration number RA-02795 crashed during a regular high-altitude flight fromMoscowtoSaint Petersburg.[81][82]Prigozhin, Utkin, and Chekalov were killed along with two Wagner veterans, two bodyguards, and the three flight staff.[83]According to Wagner Group, the plane was shot down by air defenses,[84]however according to the US government and aviation experts, the plane was downed by a bomb onboard or other sabotage.[85][86][87][88][89][84]\\nDmitry Utkin\\t53\\tFormer special forces officer in theGRU, co-founder ofWagner Group, recipient of fourOrders of Courage of Russia.\\nValery Chekalov\\t47\\tRussian Navyveteran,Wagner Group's head of security and foreign logistics that managed several front companies to coordinate  activities inLibyaandSyria.\\nEnd of table data.\",\n",
       " 'Suspicious deaths of notable Russians in 2022–2024 Analysis Calls for further investigations  of the 2022 Russian invasion of Ukraine and joined the Freedom of Russia Legion, said in an interview with The Insider that he thought that his former colleague Vladislav Avayev\\'s alleged murder of his family and subsequent suicide had been staged: \"Why? That is difficult to say. Perhaps he knew something and posed some kind of danger.\" Likewise, Sergey Protosenya\\'s',\n",
       " 'Suspicious deaths of notable Russians in 2022–2024 Analysis   for Russian energy giant Gazprom, was found dead in the bathroom of his country house in the Leningrad region. Beside his body was a suicide note.\" On 6 July 2022, CNN Portugal described the group as \"millionaires with direct or indirect links to the Kremlin found dead in a mystery scenario since the beginning of the year\". It referred to',\n",
       " '2024 in Russia Deaths   director, screenwriter, and songwriter.\\nVladimir Khavinson, 77, gerontologist, member of the Russian Academy of Sciences.\\n8 January –\\nMark Kharitonov, 86, novelist, poet and translator.\\nDjabrail Chahkiev, 68, archaeologist.\\n10 January –\\nMarat Baglai, 92, jurist, judge (1995–2003) and president (1997–2003) of the Constitutional Court.\\nTamara Milashkina, 89, operatic soprano.\\n11 January – Yury Solomin, 88, actor (An Ordinary Miracle, Dersu Uzala, Die Fledermaus).\\n12 January – Gennady Yakovlev,',\n",
       " '2023 in Russia Deaths February  8 February – Ivan Silayev, 92, last Premier of the Soviet Union',\n",
       " '2024 in Russia Deaths   vocalist and guitarist (Mify, Zemlyane).\\n31 January – Farida Muminova, 66, actress (Toʻylar muborak, Such Late, Such Warm Autumn, The Battle of the Three Kings).\\n1 February – Pavel Kapinos, 48, cinematographer (Hardcore Henry, Yolki 5, Kitchen. The Last Battle).\\n3 February – Aleksey Poteleshchenko, 47, Ukrainian-Russian military officer and politician.\\n4 February – Galina Alekseyeva, 76, diver, Olympic bronze medallist (1964).\\n5 February –',\n",
       " '2024 Russian presidential election Preparation of public opinion   In June 2023, a few posters advocating for Yevgeny Prigozhin, leader of the Wagner Group private military company, were noticed in Krasnodar, with a QR code to a website hinting at the 2024 election. Prigozhin himself denied any relation to such posters and \"any political activity in the internet\", but fuelled speculation that he was about to go into politics',\n",
       " 'Suspicious deaths of notable Russians in 2022–2024 Analysis Calls for further investigations  something and posed some kind of danger.\" Likewise, Sergey Protosenya\\'s son, who was not in Spain when his parents and sister were found dead in Lloret de Mar, stated his father was not the perpetrator (\"my father is not a murderer\"), but that his parents and sister were murdered by someone else. Protosenya was the former CEO of gas giant',\n",
       " '2024 in Russia Events July  the exiled widow of opposition leader Alexei Navalny.\\n11 July – CNN reports that American and German intelligence foiled a Russian plot to assassinate Armin Papperger, the CEO of defence company Rheinmetall.\\n12 July:\\nA Sukhoi Superjet 100 owned by Gazpromavia crashes during a test flight in Kolomensky District, Moscow Oblast, killing its three pilots.\\nAt least two soldiers are killed in a shooting',\n",
       " 'Suspicious deaths of notable Russians in 2022–2024 Suspicious deaths 2024  Start of table data. \\nName\\tAge at death\\tPosition\\tDate of death\\tCount of deaths\\tPlace body was discovered\\tCircumstances\\nIvan Sechin\\t35\\tEmployee ofRosneft. Son and heir apparent of Rosneft CEOIgor Sechin\\t5 February 2024\\t1\\tMoscow\\tComplained of kidney pain at his home mansion overnight and died within hours after ambulances failed to arrive in time, due to the security service providing the wrong address. Cause of death officially diagnosed as a blood clot. His father, Igor Sechin, blamed the Rosneft security service.The Daily Beastcalled it \"bizarre circumstances\".[98]\\nAndrey Morozov\\t44\\tMilitary blogger and war correspondent, former military combatant\\t21 February 2024\\t1\\t\\tAfter posting about Russian casualties in theBattle of Avdiivkato his Telegram channel, Morozov deleted the post, claiming to be under orders by military command. The next day, he posted a suicide note blamingVladimir Solovyovand killed himself by firearm.[99]\\nMarch\\nVitaly Robertus\\t53\\tVice president ofLukoil\\t13 March 2024\\t1\\tMoscow\\tReportedly committed suicide. He was found hanged in his Moscow office on 13 March 2024.[100][101][102]\\nEnd of table data.',\n",
       " 'Suspicious deaths of notable Russians in 2022–2024 Suspicious deaths   Start of table data. \\nName\\tAge at death\\tPosition\\tDate of death\\tCount of deaths\\tPlace body was discovered\\tCircumstances\\nVasily Melnikov\\t43\\tCEO and owner of Medstorm[14][5][4]\\t23 March 2022\\t4\\tApartment inNizhny Novgorod[4]\\tWife and two sons found dead beside him.[4]\\nApril\\nVladislav Avayev\\t51\\tFormer Vice President ofGazprombank[14][5][17]\\t18 April 2022\\t3\\tApartment in Moscow[4]\\tWife and 13-year-old daughter found dead beside him.[4]\\nSergey Protosenya\\t55\\tFormer Deputy Chairman ofNovatek.[14][5][17][4]\\t19 April 2022\\t3\\tGarden of a residence inLloret de Mar, Spain[4]\\tHanged from a handrail;[18]wife and daughter found dead in their beds with blunt axe wounds[18]and stab wounds.[4]\\nEnd of table data.',\n",
       " 'Suspicious deaths of notable Russians in 2022–2024 Suspicious deaths 2023  Start of table data. \\nName\\tAge at death\\tPosition\\tDate of death\\tCount of deaths\\tPlace body was discovered\\tCircumstances\\nApril\\nIgor Shkurko\\t49\\tDeputy director ofYakutskenergo[ru].\\t4 April 2023\\t1\\tPre-trial detention center inYakutsk\\tFound dead in his cell; allegedly suicide.[62]\\nMay\\nPyotr Kucherenko\\t46\\tState Secretary and Deputy Minister of Science and Higher Education of the Russian Federation\\t20 May 2023\\t1\\tMineralnye Vody Airport,Stavropol Krai\\tDied after falling ill on board a flight from Cuba to Russia.[63][64][65]\\nEnd of table data.',\n",
       " '2024 in Russia Events May  in Saint Petersburg, killing seven passengers.\\n12 May:\\nThirteen people are killed in a suspected Ukrainian missile strike on an apartment in Belgorod.\\nDefence Minister Sergei Shoigu is appointed secretary of the Security Council of Russia and replaced by Deputy Prime Minister Andrey Belousov.\\n14 May –\\nFormer head of personnel of the Ministry of Defence Yuri Kuznetsov is arrested for bribery of over ₽1',\n",
       " 'Suspicious deaths of notable Russians in 2022–2024 Suspicious deaths 2023  Start of table data. \\nName\\tAge at death\\tPosition\\tDate of death\\tCount of deaths\\tPlace body was discovered\\tCircumstances\\nDecember\\nAnna Tsavera\\t35\\tDeputy editor-in-chief ofKomsomolskaya Pravda\\t\"early\" December\\t1\\tMoscow\\tFound dead in her apartment, her boss Vladimir Sungorkin died suddenly the year prior.[93][94]\\nEvgeny Postrigan\\t50\\tChief accountant at sanctionedInformation Satellite Systems Reshetnev\\tDecember 2023\\t1\\tZheleznogorsk, Siberia\\tFound dead at the garage of his property, cause of death asphyxiation.[95]\\nVladimir Egorov\\t46\\tPolitician and oil businessesman inTobolsk.\\t27 December 2023\\t1\\tTobolsk,Tyumen Oblast\\tFound dead in the yard of his home from suspected three-story fall from building.[96]\\nEnd of table data.']"
      ]
     },
     "execution_count": 7,
     "metadata": {},
     "output_type": "execute_result"
    }
   ],
   "source": [
    "answer[\"retrivals\"]"
   ]
  },
  {
   "cell_type": "code",
   "execution_count": null,
   "metadata": {},
   "outputs": [],
   "source": [
    "# Open and read the text file\n",
    "with open('./databases/Russia_2023_2024_full_db/qa_difficult_2024.txt', 'r', encoding='utf-8') as file:\n",
    "    lines = file.readlines()\n",
    "\n",
    "# Initialize lists to store questions and answers\n",
    "questions = []\n",
    "answers = []\n",
    "\n",
    "# Temporary variables to track the current question and answer\n",
    "current_question = None\n",
    "current_answer = None\n",
    "\n",
    "# Process each line\n",
    "for line in lines:\n",
    "    line = line.strip()  # Remove leading and trailing whitespace\n",
    "    \n",
    "    if line.startswith(\"Question:\"):\n",
    "        # Save the previous question and answer if they exist\n",
    "        if current_question and current_answer:\n",
    "            questions.append(current_question)\n",
    "            answers.append(current_answer)\n",
    "            current_answer = None\n",
    "        \n",
    "        # Start a new question\n",
    "        current_question = line.replace(\"Question:\", \"\").strip()\n",
    "    elif line.startswith(\"Answer:\"):\n",
    "        # Start a new answer\n",
    "        current_answer = line.replace(\"Answer:\", \"\").strip()\n",
    "    elif current_answer is not None:\n",
    "        # Append to the current answer if additional lines exist\n",
    "        current_answer += \" \" + line\n",
    "    # Ignore lines that don't match the format or are citations\n",
    "\n",
    "# Add the last question and answer\n",
    "if current_question and current_answer:\n",
    "    questions.append(current_question)\n",
    "    answers.append(current_answer)"
   ]
  }
 ],
 "metadata": {
  "kernelspec": {
   "display_name": ".venv",
   "language": "python",
   "name": "python3"
  },
  "language_info": {
   "codemirror_mode": {
    "name": "ipython",
    "version": 3
   },
   "file_extension": ".py",
   "mimetype": "text/x-python",
   "name": "python",
   "nbconvert_exporter": "python",
   "pygments_lexer": "ipython3",
   "version": "3.12.3"
  }
 },
 "nbformat": 4,
 "nbformat_minor": 2
}

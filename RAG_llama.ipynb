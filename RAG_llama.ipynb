{
 "cells": [
  {
   "cell_type": "code",
   "execution_count": 1,
   "metadata": {},
   "outputs": [],
   "source": [
    "from wikirag import WikiRAG\n",
    "from langchain_ollama import ChatOllama"
   ]
  },
  {
   "cell_type": "code",
   "execution_count": 2,
   "metadata": {},
   "outputs": [],
   "source": [
    "num_doc_retrieved = 3\n",
    "basic_wikirag = WikiRAG(db_name = \"./databases/Russia_2023_2024_full_4_table_rows_db\", model_name=\"llama3.1:8b\",documents_retrieved=num_doc_retrieved)\n",
    "base_model = ChatOllama(model = basic_wikirag.model_name)\n",
    "#ollama31_8b = ChatOllama(model = \"llama3.1:8b\")"
   ]
  },
  {
   "cell_type": "code",
   "execution_count": 3,
   "metadata": {},
   "outputs": [
    {
     "name": "stdout",
     "output_type": "stream",
     "text": [
      "Time taken for database search:  1.9049482345581055\n",
      "Time taken for retrieval:  3.3085784912109375\n",
      "Time taken for model:  12.428945779800415\n"
     ]
    }
   ],
   "source": [
    "question = \"When, where and how died Yevgeny Prigozhin?\"\n",
    "#\"Who won Men's 100 metre butterfly? Elaborate on the winner and his competitors\"\n",
    "#\"What competitions related to swimming where at the Olympics? Who won each of them?\"\n",
    "#\"Name all candidates who took part in Primorsky election. Where there any poles? Who had the best chances to win and who won?\"\n",
    "#\"Tell me about things that doubt Russia policy reliablity in the eyes of democratic countries. Focus on different aspects like elections, controversial government actions or violation of human rights.\"\n",
    "#\"Tell me about things that doubt Russia policy reliablity in the eyes of democratic countries\"\n",
    "#\"Tell me everything what happend on 28 of January 2024\"\n",
    "#\"Have EU sanctions on Russia caused any troubles with strategic resources\"\n",
    "#\"Name all candidates who took part in Primorsky election. Where there any poles? Who had the best chances to win and who won?\"\n",
    "#\"Name all candidates who did not take part in Primorsky election?\"\n",
    "# questions[qa] + \"Answer in detail with examples.\"\n",
    "#print(question)\n",
    "#print(answers[qa])\n",
    "\n",
    "answer = basic_wikirag.query(question)"
   ]
  },
  {
   "cell_type": "code",
   "execution_count": 4,
   "metadata": {},
   "outputs": [
    {
     "data": {
      "text/plain": [
       "{'question': 'When, where and how died Yevgeny Prigozhin?',\n",
       " 'answer': 'Based on the provided context, Yevgeny Prigozhin, 62, leader of the Wagner group, died on August 23rd in Russia. However, there is no information on the specific cause or circumstances of his death mentioned in the given context.'}"
      ]
     },
     "execution_count": 4,
     "metadata": {},
     "output_type": "execute_result"
    }
   ],
   "source": [
    "answer"
   ]
  },
  {
   "cell_type": "code",
   "execution_count": null,
   "metadata": {},
   "outputs": [],
   "source": [
    "# Open and read the text file\n",
    "with open('./databases/Russia_2023_2024_full_db/qa_difficult_2024.txt', 'r', encoding='utf-8') as file:\n",
    "    lines = file.readlines()\n",
    "\n",
    "# Initialize lists to store questions and answers\n",
    "questions = []\n",
    "answers = []\n",
    "\n",
    "# Temporary variables to track the current question and answer\n",
    "current_question = None\n",
    "current_answer = None\n",
    "\n",
    "# Process each line\n",
    "for line in lines:\n",
    "    line = line.strip()  # Remove leading and trailing whitespace\n",
    "    \n",
    "    if line.startswith(\"Question:\"):\n",
    "        # Save the previous question and answer if they exist\n",
    "        if current_question and current_answer:\n",
    "            questions.append(current_question)\n",
    "            answers.append(current_answer)\n",
    "            current_answer = None\n",
    "        \n",
    "        # Start a new question\n",
    "        current_question = line.replace(\"Question:\", \"\").strip()\n",
    "    elif line.startswith(\"Answer:\"):\n",
    "        # Start a new answer\n",
    "        current_answer = line.replace(\"Answer:\", \"\").strip()\n",
    "    elif current_answer is not None:\n",
    "        # Append to the current answer if additional lines exist\n",
    "        current_answer += \" \" + line\n",
    "    # Ignore lines that don't match the format or are citations\n",
    "\n",
    "# Add the last question and answer\n",
    "if current_question and current_answer:\n",
    "    questions.append(current_question)\n",
    "    answers.append(current_answer)"
   ]
  }
 ],
 "metadata": {
  "kernelspec": {
   "display_name": ".venv",
   "language": "python",
   "name": "python3"
  },
  "language_info": {
   "codemirror_mode": {
    "name": "ipython",
    "version": 3
   },
   "file_extension": ".py",
   "mimetype": "text/x-python",
   "name": "python",
   "nbconvert_exporter": "python",
   "pygments_lexer": "ipython3",
   "version": "3.12.3"
  }
 },
 "nbformat": 4,
 "nbformat_minor": 2
}
